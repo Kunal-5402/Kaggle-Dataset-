{
 "cells": [
  {
   "cell_type": "code",
   "execution_count": 50,
   "metadata": {},
   "outputs": [],
   "source": [
    "import pandas as pd\n",
    "import numpy as np\n",
    "from sklearn.preprocessing import Normalizer,StandardScaler,LabelEncoder\n",
    "import tensorflow\n",
    "import keras"
   ]
  },
  {
   "cell_type": "code",
   "execution_count": 51,
   "metadata": {},
   "outputs": [],
   "source": [
    "train = pd.read_csv('train_df.csv')\n",
    "test = pd.read_csv('test_df.csv')"
   ]
  },
  {
   "cell_type": "code",
   "execution_count": 52,
   "metadata": {},
   "outputs": [
    {
     "data": {
      "text/html": [
       "<div>\n",
       "<style scoped>\n",
       "    .dataframe tbody tr th:only-of-type {\n",
       "        vertical-align: middle;\n",
       "    }\n",
       "\n",
       "    .dataframe tbody tr th {\n",
       "        vertical-align: top;\n",
       "    }\n",
       "\n",
       "    .dataframe thead th {\n",
       "        text-align: right;\n",
       "    }\n",
       "</style>\n",
       "<table border=\"1\" class=\"dataframe\">\n",
       "  <thead>\n",
       "    <tr style=\"text-align: right;\">\n",
       "      <th></th>\n",
       "      <th>Age</th>\n",
       "      <th>RoomService</th>\n",
       "      <th>FoodCourt</th>\n",
       "      <th>ShoppingMall</th>\n",
       "      <th>Spa</th>\n",
       "      <th>VRDeck</th>\n",
       "      <th>Transported</th>\n",
       "      <th>55 Cancri e</th>\n",
       "      <th>PSO J318.5-22</th>\n",
       "      <th>TRAPPIST-1e</th>\n",
       "      <th>Earth</th>\n",
       "      <th>Europa</th>\n",
       "      <th>Mars</th>\n",
       "      <th>CryoSleep</th>\n",
       "      <th>VIP</th>\n",
       "    </tr>\n",
       "  </thead>\n",
       "  <tbody>\n",
       "    <tr>\n",
       "      <th>0</th>\n",
       "      <td>39.0</td>\n",
       "      <td>0.0</td>\n",
       "      <td>0.0</td>\n",
       "      <td>0.0</td>\n",
       "      <td>0.0</td>\n",
       "      <td>0.0</td>\n",
       "      <td>False</td>\n",
       "      <td>0</td>\n",
       "      <td>0</td>\n",
       "      <td>1</td>\n",
       "      <td>0</td>\n",
       "      <td>1</td>\n",
       "      <td>0</td>\n",
       "      <td>0</td>\n",
       "      <td>0</td>\n",
       "    </tr>\n",
       "    <tr>\n",
       "      <th>1</th>\n",
       "      <td>24.0</td>\n",
       "      <td>109.0</td>\n",
       "      <td>9.0</td>\n",
       "      <td>25.0</td>\n",
       "      <td>549.0</td>\n",
       "      <td>44.0</td>\n",
       "      <td>True</td>\n",
       "      <td>0</td>\n",
       "      <td>0</td>\n",
       "      <td>1</td>\n",
       "      <td>1</td>\n",
       "      <td>0</td>\n",
       "      <td>0</td>\n",
       "      <td>0</td>\n",
       "      <td>0</td>\n",
       "    </tr>\n",
       "    <tr>\n",
       "      <th>2</th>\n",
       "      <td>58.0</td>\n",
       "      <td>43.0</td>\n",
       "      <td>3576.0</td>\n",
       "      <td>0.0</td>\n",
       "      <td>6715.0</td>\n",
       "      <td>49.0</td>\n",
       "      <td>False</td>\n",
       "      <td>0</td>\n",
       "      <td>0</td>\n",
       "      <td>1</td>\n",
       "      <td>0</td>\n",
       "      <td>1</td>\n",
       "      <td>0</td>\n",
       "      <td>0</td>\n",
       "      <td>1</td>\n",
       "    </tr>\n",
       "    <tr>\n",
       "      <th>3</th>\n",
       "      <td>33.0</td>\n",
       "      <td>0.0</td>\n",
       "      <td>1283.0</td>\n",
       "      <td>371.0</td>\n",
       "      <td>3329.0</td>\n",
       "      <td>193.0</td>\n",
       "      <td>False</td>\n",
       "      <td>0</td>\n",
       "      <td>0</td>\n",
       "      <td>1</td>\n",
       "      <td>0</td>\n",
       "      <td>1</td>\n",
       "      <td>0</td>\n",
       "      <td>0</td>\n",
       "      <td>0</td>\n",
       "    </tr>\n",
       "    <tr>\n",
       "      <th>4</th>\n",
       "      <td>16.0</td>\n",
       "      <td>303.0</td>\n",
       "      <td>70.0</td>\n",
       "      <td>151.0</td>\n",
       "      <td>565.0</td>\n",
       "      <td>2.0</td>\n",
       "      <td>True</td>\n",
       "      <td>0</td>\n",
       "      <td>0</td>\n",
       "      <td>1</td>\n",
       "      <td>1</td>\n",
       "      <td>0</td>\n",
       "      <td>0</td>\n",
       "      <td>0</td>\n",
       "      <td>0</td>\n",
       "    </tr>\n",
       "  </tbody>\n",
       "</table>\n",
       "</div>"
      ],
      "text/plain": [
       "    Age  RoomService  FoodCourt  ShoppingMall     Spa  VRDeck  Transported  \\\n",
       "0  39.0          0.0        0.0           0.0     0.0     0.0        False   \n",
       "1  24.0        109.0        9.0          25.0   549.0    44.0         True   \n",
       "2  58.0         43.0     3576.0           0.0  6715.0    49.0        False   \n",
       "3  33.0          0.0     1283.0         371.0  3329.0   193.0        False   \n",
       "4  16.0        303.0       70.0         151.0   565.0     2.0         True   \n",
       "\n",
       "   55 Cancri e  PSO J318.5-22  TRAPPIST-1e  Earth  Europa  Mars  CryoSleep  \\\n",
       "0            0              0            1      0       1     0          0   \n",
       "1            0              0            1      1       0     0          0   \n",
       "2            0              0            1      0       1     0          0   \n",
       "3            0              0            1      0       1     0          0   \n",
       "4            0              0            1      1       0     0          0   \n",
       "\n",
       "   VIP  \n",
       "0    0  \n",
       "1    0  \n",
       "2    1  \n",
       "3    0  \n",
       "4    0  "
      ]
     },
     "execution_count": 52,
     "metadata": {},
     "output_type": "execute_result"
    }
   ],
   "source": [
    "train.head()"
   ]
  },
  {
   "cell_type": "code",
   "execution_count": 53,
   "metadata": {},
   "outputs": [],
   "source": [
    "bins = [0, 20, 40, 60, 80]\n",
    "labels = ['Teens', 'Youngs', 'Adult','Elderly']\n",
    "\n",
    "train['Age'] = pd.cut(x = train['Age'], bins = bins, labels = labels, include_lowest = True)\n",
    "test['Age'] = pd.cut(x = test['Age'], bins = bins, labels = labels, include_lowest = True)"
   ]
  },
  {
   "cell_type": "code",
   "execution_count": 54,
   "metadata": {},
   "outputs": [],
   "source": [
    "train_age = pd.get_dummies(train['Age'])\n",
    "test_age = pd.get_dummies(test['Age'])"
   ]
  },
  {
   "cell_type": "code",
   "execution_count": 55,
   "metadata": {},
   "outputs": [],
   "source": [
    "train.drop('Age',axis=1,inplace=True)\n",
    "test.drop('Age',axis=1,inplace=True)"
   ]
  },
  {
   "cell_type": "code",
   "execution_count": 56,
   "metadata": {},
   "outputs": [],
   "source": [
    "train = pd.concat([train,train_age],axis=1)\n",
    "test = pd.concat([test,test_age],axis=1)"
   ]
  },
  {
   "cell_type": "code",
   "execution_count": 57,
   "metadata": {},
   "outputs": [
    {
     "name": "stdout",
     "output_type": "stream",
     "text": [
      "(8693, 18)\n",
      "(4277, 17)\n"
     ]
    }
   ],
   "source": [
    "print(train.shape)\n",
    "print(test.shape)"
   ]
  },
  {
   "cell_type": "code",
   "execution_count": 58,
   "metadata": {},
   "outputs": [
    {
     "data": {
      "text/html": [
       "<div>\n",
       "<style scoped>\n",
       "    .dataframe tbody tr th:only-of-type {\n",
       "        vertical-align: middle;\n",
       "    }\n",
       "\n",
       "    .dataframe tbody tr th {\n",
       "        vertical-align: top;\n",
       "    }\n",
       "\n",
       "    .dataframe thead th {\n",
       "        text-align: right;\n",
       "    }\n",
       "</style>\n",
       "<table border=\"1\" class=\"dataframe\">\n",
       "  <thead>\n",
       "    <tr style=\"text-align: right;\">\n",
       "      <th></th>\n",
       "      <th>RoomService</th>\n",
       "      <th>FoodCourt</th>\n",
       "      <th>ShoppingMall</th>\n",
       "      <th>Spa</th>\n",
       "      <th>VRDeck</th>\n",
       "      <th>55 Cancri e</th>\n",
       "      <th>PSO J318.5-22</th>\n",
       "      <th>TRAPPIST-1e</th>\n",
       "      <th>Earth</th>\n",
       "      <th>Europa</th>\n",
       "      <th>Mars</th>\n",
       "      <th>CryoSleep</th>\n",
       "      <th>VIP</th>\n",
       "      <th>Teens</th>\n",
       "      <th>Youngs</th>\n",
       "      <th>Adult</th>\n",
       "      <th>Elderly</th>\n",
       "    </tr>\n",
       "  </thead>\n",
       "  <tbody>\n",
       "    <tr>\n",
       "      <th>0</th>\n",
       "      <td>0.0</td>\n",
       "      <td>0.0</td>\n",
       "      <td>0.0</td>\n",
       "      <td>0.0</td>\n",
       "      <td>0.0</td>\n",
       "      <td>0</td>\n",
       "      <td>0</td>\n",
       "      <td>1</td>\n",
       "      <td>1</td>\n",
       "      <td>0</td>\n",
       "      <td>0</td>\n",
       "      <td>1</td>\n",
       "      <td>0</td>\n",
       "      <td>0</td>\n",
       "      <td>1</td>\n",
       "      <td>0</td>\n",
       "      <td>0</td>\n",
       "    </tr>\n",
       "    <tr>\n",
       "      <th>1</th>\n",
       "      <td>0.0</td>\n",
       "      <td>9.0</td>\n",
       "      <td>0.0</td>\n",
       "      <td>2823.0</td>\n",
       "      <td>0.0</td>\n",
       "      <td>0</td>\n",
       "      <td>0</td>\n",
       "      <td>1</td>\n",
       "      <td>1</td>\n",
       "      <td>0</td>\n",
       "      <td>0</td>\n",
       "      <td>0</td>\n",
       "      <td>0</td>\n",
       "      <td>1</td>\n",
       "      <td>0</td>\n",
       "      <td>0</td>\n",
       "      <td>0</td>\n",
       "    </tr>\n",
       "    <tr>\n",
       "      <th>2</th>\n",
       "      <td>0.0</td>\n",
       "      <td>0.0</td>\n",
       "      <td>0.0</td>\n",
       "      <td>0.0</td>\n",
       "      <td>0.0</td>\n",
       "      <td>1</td>\n",
       "      <td>0</td>\n",
       "      <td>0</td>\n",
       "      <td>0</td>\n",
       "      <td>1</td>\n",
       "      <td>0</td>\n",
       "      <td>1</td>\n",
       "      <td>0</td>\n",
       "      <td>0</td>\n",
       "      <td>1</td>\n",
       "      <td>0</td>\n",
       "      <td>0</td>\n",
       "    </tr>\n",
       "    <tr>\n",
       "      <th>3</th>\n",
       "      <td>0.0</td>\n",
       "      <td>6652.0</td>\n",
       "      <td>0.0</td>\n",
       "      <td>181.0</td>\n",
       "      <td>585.0</td>\n",
       "      <td>0</td>\n",
       "      <td>0</td>\n",
       "      <td>1</td>\n",
       "      <td>0</td>\n",
       "      <td>1</td>\n",
       "      <td>0</td>\n",
       "      <td>0</td>\n",
       "      <td>0</td>\n",
       "      <td>0</td>\n",
       "      <td>1</td>\n",
       "      <td>0</td>\n",
       "      <td>0</td>\n",
       "    </tr>\n",
       "    <tr>\n",
       "      <th>4</th>\n",
       "      <td>10.0</td>\n",
       "      <td>0.0</td>\n",
       "      <td>635.0</td>\n",
       "      <td>0.0</td>\n",
       "      <td>0.0</td>\n",
       "      <td>0</td>\n",
       "      <td>0</td>\n",
       "      <td>1</td>\n",
       "      <td>1</td>\n",
       "      <td>0</td>\n",
       "      <td>0</td>\n",
       "      <td>0</td>\n",
       "      <td>0</td>\n",
       "      <td>1</td>\n",
       "      <td>0</td>\n",
       "      <td>0</td>\n",
       "      <td>0</td>\n",
       "    </tr>\n",
       "  </tbody>\n",
       "</table>\n",
       "</div>"
      ],
      "text/plain": [
       "   RoomService  FoodCourt  ShoppingMall     Spa  VRDeck  55 Cancri e  \\\n",
       "0          0.0        0.0           0.0     0.0     0.0            0   \n",
       "1          0.0        9.0           0.0  2823.0     0.0            0   \n",
       "2          0.0        0.0           0.0     0.0     0.0            1   \n",
       "3          0.0     6652.0           0.0   181.0   585.0            0   \n",
       "4         10.0        0.0         635.0     0.0     0.0            0   \n",
       "\n",
       "   PSO J318.5-22  TRAPPIST-1e  Earth  Europa  Mars  CryoSleep  VIP  Teens  \\\n",
       "0              0            1      1       0     0          1    0      0   \n",
       "1              0            1      1       0     0          0    0      1   \n",
       "2              0            0      0       1     0          1    0      0   \n",
       "3              0            1      0       1     0          0    0      0   \n",
       "4              0            1      1       0     0          0    0      1   \n",
       "\n",
       "   Youngs  Adult  Elderly  \n",
       "0       1      0        0  \n",
       "1       0      0        0  \n",
       "2       1      0        0  \n",
       "3       1      0        0  \n",
       "4       0      0        0  "
      ]
     },
     "execution_count": 58,
     "metadata": {},
     "output_type": "execute_result"
    }
   ],
   "source": [
    "test.head()"
   ]
  },
  {
   "cell_type": "code",
   "execution_count": 59,
   "metadata": {},
   "outputs": [],
   "source": [
    "norm = Normalizer()\n",
    "\n",
    "col = ['RoomService','FoodCourt','ShoppingMall','Spa','VRDeck']\n",
    "\n",
    "train[col] = norm.fit_transform(train[col])\n",
    "test[col] = norm.fit_transform(test[col])"
   ]
  },
  {
   "cell_type": "code",
   "execution_count": 61,
   "metadata": {},
   "outputs": [],
   "source": [
    "train.to_csv('preprocessed_train.csv',index=False)\n",
    "test.to_csv('preprocessed_test.csv',index=False)"
   ]
  },
  {
   "cell_type": "code",
   "execution_count": 63,
   "metadata": {},
   "outputs": [
    {
     "data": {
      "text/plain": [
       "(8693, 18)"
      ]
     },
     "execution_count": 63,
     "metadata": {},
     "output_type": "execute_result"
    }
   ],
   "source": [
    "train.shape"
   ]
  },
  {
   "cell_type": "code",
   "execution_count": 107,
   "metadata": {},
   "outputs": [],
   "source": [
    "model = keras.Sequential([\n",
    "\n",
    "    keras.layers.Dense(500,activation='relu',input_dim=17),\n",
    "    keras.layers.Dropout(0.5),\n",
    "    keras.layers.Dense(250,activation='relu'),\n",
    "    keras.layers.Dropout(0.2),\n",
    "    keras.layers.Dense(100,activation='relu'),\n",
    "    keras.layers.Dropout(0.1),\n",
    "    keras.layers.Dense(1,activation='sigmoid'),\n",
    "])\n",
    "\n",
    "model.compile(optimizer='adam',loss='binary_crossentropy',metrics='accuracy')"
   ]
  },
  {
   "cell_type": "markdown",
   "metadata": {},
   "source": []
  },
  {
   "cell_type": "code",
   "execution_count": 108,
   "metadata": {},
   "outputs": [
    {
     "name": "stdout",
     "output_type": "stream",
     "text": [
      "Model: \"sequential_14\"\n",
      "_________________________________________________________________\n",
      " Layer (type)                Output Shape              Param #   \n",
      "=================================================================\n",
      " dense_35 (Dense)            (None, 500)               9000      \n",
      "                                                                 \n",
      " dropout_9 (Dropout)         (None, 500)               0         \n",
      "                                                                 \n",
      " dense_36 (Dense)            (None, 250)               125250    \n",
      "                                                                 \n",
      " dropout_10 (Dropout)        (None, 250)               0         \n",
      "                                                                 \n",
      " dense_37 (Dense)            (None, 100)               25100     \n",
      "                                                                 \n",
      " dropout_11 (Dropout)        (None, 100)               0         \n",
      "                                                                 \n",
      " dense_38 (Dense)            (None, 1)                 101       \n",
      "                                                                 \n",
      "=================================================================\n",
      "Total params: 159,451\n",
      "Trainable params: 159,451\n",
      "Non-trainable params: 0\n",
      "_________________________________________________________________\n"
     ]
    }
   ],
   "source": [
    "model.summary()"
   ]
  },
  {
   "cell_type": "code",
   "execution_count": 109,
   "metadata": {},
   "outputs": [],
   "source": [
    "X = train.drop('Transported',axis=1)\n",
    "y = train['Transported']\n",
    "\n",
    "from sklearn.model_selection import train_test_split\n",
    "from sklearn.preprocessing import LabelEncoder\n",
    "\n",
    "encoder = LabelEncoder()\n",
    "y = encoder.fit_transform(y)\n",
    "\n",
    "train_x, test_x, train_y, test_y = train_test_split(X,y,test_size=0.2,random_state=1234,stratify=y)"
   ]
  },
  {
   "cell_type": "code",
   "execution_count": 110,
   "metadata": {},
   "outputs": [
    {
     "name": "stdout",
     "output_type": "stream",
     "text": [
      "Epoch 1/30\n"
     ]
    },
    {
     "name": "stderr",
     "output_type": "stream",
     "text": [
      "2023-05-28 14:00:45.112982: I tensorflow/core/grappler/optimizers/custom_graph_optimizer_registry.cc:113] Plugin optimizer for device_type GPU is enabled.\n"
     ]
    },
    {
     "name": "stdout",
     "output_type": "stream",
     "text": [
      "174/174 [==============================] - ETA: 0s - loss: 0.5044 - accuracy: 0.7589"
     ]
    },
    {
     "name": "stderr",
     "output_type": "stream",
     "text": [
      "2023-05-28 14:00:47.465683: I tensorflow/core/grappler/optimizers/custom_graph_optimizer_registry.cc:113] Plugin optimizer for device_type GPU is enabled.\n"
     ]
    },
    {
     "name": "stdout",
     "output_type": "stream",
     "text": [
      "174/174 [==============================] - 3s 14ms/step - loss: 0.5044 - accuracy: 0.7589 - val_loss: 0.4440 - val_accuracy: 0.7815\n",
      "Epoch 2/30\n",
      "174/174 [==============================] - 2s 10ms/step - loss: 0.4657 - accuracy: 0.7811 - val_loss: 0.4496 - val_accuracy: 0.8023\n",
      "Epoch 3/30\n",
      "174/174 [==============================] - 2s 10ms/step - loss: 0.4543 - accuracy: 0.7884 - val_loss: 0.4330 - val_accuracy: 0.8001\n",
      "Epoch 4/30\n",
      "174/174 [==============================] - 2s 10ms/step - loss: 0.4508 - accuracy: 0.7965 - val_loss: 0.4299 - val_accuracy: 0.8023\n",
      "Epoch 5/30\n",
      "174/174 [==============================] - 2s 9ms/step - loss: 0.4466 - accuracy: 0.7976 - val_loss: 0.4397 - val_accuracy: 0.7951\n",
      "Epoch 6/30\n",
      "174/174 [==============================] - 2s 10ms/step - loss: 0.4469 - accuracy: 0.8001 - val_loss: 0.4379 - val_accuracy: 0.7901\n",
      "Epoch 7/30\n",
      "174/174 [==============================] - 2s 10ms/step - loss: 0.4445 - accuracy: 0.7972 - val_loss: 0.4285 - val_accuracy: 0.8001\n",
      "Epoch 8/30\n",
      "174/174 [==============================] - 2s 10ms/step - loss: 0.4431 - accuracy: 0.7951 - val_loss: 0.4373 - val_accuracy: 0.8023\n",
      "Epoch 9/30\n",
      "174/174 [==============================] - 2s 10ms/step - loss: 0.4428 - accuracy: 0.7962 - val_loss: 0.4301 - val_accuracy: 0.8001\n",
      "Epoch 10/30\n",
      "174/174 [==============================] - 2s 9ms/step - loss: 0.4395 - accuracy: 0.8006 - val_loss: 0.4302 - val_accuracy: 0.8016\n",
      "Epoch 11/30\n",
      "174/174 [==============================] - 2s 9ms/step - loss: 0.4402 - accuracy: 0.8028 - val_loss: 0.4349 - val_accuracy: 0.8073\n",
      "Epoch 12/30\n",
      "174/174 [==============================] - 2s 9ms/step - loss: 0.4370 - accuracy: 0.8015 - val_loss: 0.4309 - val_accuracy: 0.8023\n",
      "Epoch 13/30\n",
      "174/174 [==============================] - 2s 9ms/step - loss: 0.4350 - accuracy: 0.8021 - val_loss: 0.4269 - val_accuracy: 0.8030\n",
      "Epoch 14/30\n",
      "174/174 [==============================] - 2s 9ms/step - loss: 0.4370 - accuracy: 0.7992 - val_loss: 0.4359 - val_accuracy: 0.8023\n",
      "Epoch 15/30\n",
      "174/174 [==============================] - 2s 9ms/step - loss: 0.4316 - accuracy: 0.8008 - val_loss: 0.4367 - val_accuracy: 0.8016\n",
      "Epoch 16/30\n",
      "174/174 [==============================] - 2s 9ms/step - loss: 0.4364 - accuracy: 0.8014 - val_loss: 0.4321 - val_accuracy: 0.8037\n",
      "Epoch 17/30\n",
      "174/174 [==============================] - 2s 9ms/step - loss: 0.4369 - accuracy: 0.8019 - val_loss: 0.4341 - val_accuracy: 0.8009\n",
      "Epoch 18/30\n",
      "174/174 [==============================] - 2s 9ms/step - loss: 0.4304 - accuracy: 0.8017 - val_loss: 0.4286 - val_accuracy: 0.8023\n",
      "Epoch 19/30\n",
      "174/174 [==============================] - 2s 9ms/step - loss: 0.4300 - accuracy: 0.8039 - val_loss: 0.4469 - val_accuracy: 0.7980\n",
      "Epoch 20/30\n",
      "174/174 [==============================] - 2s 11ms/step - loss: 0.4299 - accuracy: 0.8042 - val_loss: 0.4300 - val_accuracy: 0.8059\n",
      "Epoch 21/30\n",
      "174/174 [==============================] - 2s 10ms/step - loss: 0.4275 - accuracy: 0.8068 - val_loss: 0.4307 - val_accuracy: 0.8052\n",
      "Epoch 22/30\n",
      "174/174 [==============================] - 2s 10ms/step - loss: 0.4317 - accuracy: 0.8035 - val_loss: 0.4292 - val_accuracy: 0.8016\n",
      "Epoch 23/30\n",
      "174/174 [==============================] - 2s 10ms/step - loss: 0.4275 - accuracy: 0.8046 - val_loss: 0.4302 - val_accuracy: 0.8059\n",
      "Epoch 24/30\n",
      "174/174 [==============================] - 2s 10ms/step - loss: 0.4284 - accuracy: 0.8046 - val_loss: 0.4309 - val_accuracy: 0.8045\n",
      "Epoch 25/30\n",
      "174/174 [==============================] - 2s 10ms/step - loss: 0.4246 - accuracy: 0.8082 - val_loss: 0.4347 - val_accuracy: 0.8037\n",
      "Epoch 26/30\n",
      "174/174 [==============================] - 2s 10ms/step - loss: 0.4267 - accuracy: 0.8044 - val_loss: 0.4321 - val_accuracy: 0.7994\n",
      "Epoch 27/30\n",
      "174/174 [==============================] - 2s 10ms/step - loss: 0.4269 - accuracy: 0.8035 - val_loss: 0.4281 - val_accuracy: 0.8066\n",
      "Epoch 28/30\n",
      "174/174 [==============================] - 2s 10ms/step - loss: 0.4278 - accuracy: 0.8023 - val_loss: 0.4323 - val_accuracy: 0.8045\n",
      "Epoch 29/30\n",
      "174/174 [==============================] - 2s 10ms/step - loss: 0.4264 - accuracy: 0.8059 - val_loss: 0.4296 - val_accuracy: 0.8030\n",
      "Epoch 30/30\n",
      "174/174 [==============================] - 2s 10ms/step - loss: 0.4252 - accuracy: 0.8073 - val_loss: 0.4274 - val_accuracy: 0.8037\n"
     ]
    },
    {
     "data": {
      "text/plain": [
       "<keras.callbacks.History at 0x31357b2e0>"
      ]
     },
     "execution_count": 110,
     "metadata": {},
     "output_type": "execute_result"
    }
   ],
   "source": [
    "model.fit(train_x,train_y,epochs=30,validation_split=0.2)"
   ]
  },
  {
   "cell_type": "code",
   "execution_count": 111,
   "metadata": {},
   "outputs": [
    {
     "name": "stdout",
     "output_type": "stream",
     "text": [
      "55/55 [==============================] - 0s 6ms/step - loss: 0.4538 - accuracy: 0.7769\n"
     ]
    },
    {
     "data": {
      "text/plain": [
       "[0.45377662777900696, 0.7768833041191101]"
      ]
     },
     "execution_count": 111,
     "metadata": {},
     "output_type": "execute_result"
    }
   ],
   "source": [
    "model.evaluate(test_x,test_y)"
   ]
  },
  {
   "cell_type": "code",
   "execution_count": 112,
   "metadata": {},
   "outputs": [
    {
     "name": "stdout",
     "output_type": "stream",
     "text": [
      "218/218 [==============================] - 1s 5ms/step - loss: 0.4155 - accuracy: 0.8105\n"
     ]
    },
    {
     "data": {
      "text/plain": [
       "[0.4154946208000183, 0.8104687929153442]"
      ]
     },
     "execution_count": 112,
     "metadata": {},
     "output_type": "execute_result"
    }
   ],
   "source": [
    "model.evaluate(train_x,train_y)"
   ]
  },
  {
   "cell_type": "code",
   "execution_count": 120,
   "metadata": {},
   "outputs": [
    {
     "name": "stdout",
     "output_type": "stream",
     "text": [
      "134/134 [==============================] - 0s 2ms/step\n"
     ]
    }
   ],
   "source": [
    "y_pred = model.predict(test)"
   ]
  },
  {
   "cell_type": "code",
   "execution_count": 121,
   "metadata": {},
   "outputs": [],
   "source": [
    "y = []\n",
    "\n",
    "for x in y_pred:\n",
    "    if x >=0.5:\n",
    "        y.append('True')\n",
    "    else:\n",
    "        y.append('False')"
   ]
  },
  {
   "cell_type": "code",
   "execution_count": 114,
   "metadata": {},
   "outputs": [],
   "source": [
    "df = pd.read_csv('test.csv')"
   ]
  },
  {
   "cell_type": "code",
   "execution_count": 122,
   "metadata": {},
   "outputs": [],
   "source": [
    "y = pd.DataFrame(y)"
   ]
  },
  {
   "cell_type": "code",
   "execution_count": 124,
   "metadata": {},
   "outputs": [
    {
     "data": {
      "text/html": [
       "<div>\n",
       "<style scoped>\n",
       "    .dataframe tbody tr th:only-of-type {\n",
       "        vertical-align: middle;\n",
       "    }\n",
       "\n",
       "    .dataframe tbody tr th {\n",
       "        vertical-align: top;\n",
       "    }\n",
       "\n",
       "    .dataframe thead th {\n",
       "        text-align: right;\n",
       "    }\n",
       "</style>\n",
       "<table border=\"1\" class=\"dataframe\">\n",
       "  <thead>\n",
       "    <tr style=\"text-align: right;\">\n",
       "      <th></th>\n",
       "      <th>0</th>\n",
       "    </tr>\n",
       "  </thead>\n",
       "  <tbody>\n",
       "    <tr>\n",
       "      <th>0</th>\n",
       "      <td>True</td>\n",
       "    </tr>\n",
       "    <tr>\n",
       "      <th>1</th>\n",
       "      <td>False</td>\n",
       "    </tr>\n",
       "    <tr>\n",
       "      <th>2</th>\n",
       "      <td>True</td>\n",
       "    </tr>\n",
       "    <tr>\n",
       "      <th>3</th>\n",
       "      <td>True</td>\n",
       "    </tr>\n",
       "    <tr>\n",
       "      <th>4</th>\n",
       "      <td>True</td>\n",
       "    </tr>\n",
       "  </tbody>\n",
       "</table>\n",
       "</div>"
      ],
      "text/plain": [
       "       0\n",
       "0   True\n",
       "1  False\n",
       "2   True\n",
       "3   True\n",
       "4   True"
      ]
     },
     "execution_count": 124,
     "metadata": {},
     "output_type": "execute_result"
    }
   ],
   "source": [
    "y.head()"
   ]
  },
  {
   "cell_type": "code",
   "execution_count": 126,
   "metadata": {},
   "outputs": [],
   "source": [
    "submission = pd.concat([df['PassengerId'],y],axis=1,keys=['PassengerId','Transported'])"
   ]
  },
  {
   "cell_type": "code",
   "execution_count": 127,
   "metadata": {},
   "outputs": [
    {
     "data": {
      "text/html": [
       "<div>\n",
       "<style scoped>\n",
       "    .dataframe tbody tr th:only-of-type {\n",
       "        vertical-align: middle;\n",
       "    }\n",
       "\n",
       "    .dataframe tbody tr th {\n",
       "        vertical-align: top;\n",
       "    }\n",
       "\n",
       "    .dataframe thead tr th {\n",
       "        text-align: left;\n",
       "    }\n",
       "</style>\n",
       "<table border=\"1\" class=\"dataframe\">\n",
       "  <thead>\n",
       "    <tr>\n",
       "      <th></th>\n",
       "      <th>PassengerId</th>\n",
       "      <th>Transported</th>\n",
       "    </tr>\n",
       "    <tr>\n",
       "      <th></th>\n",
       "      <th>PassengerId</th>\n",
       "      <th>0</th>\n",
       "    </tr>\n",
       "  </thead>\n",
       "  <tbody>\n",
       "    <tr>\n",
       "      <th>0</th>\n",
       "      <td>0013_01</td>\n",
       "      <td>True</td>\n",
       "    </tr>\n",
       "    <tr>\n",
       "      <th>1</th>\n",
       "      <td>0018_01</td>\n",
       "      <td>False</td>\n",
       "    </tr>\n",
       "    <tr>\n",
       "      <th>2</th>\n",
       "      <td>0019_01</td>\n",
       "      <td>True</td>\n",
       "    </tr>\n",
       "    <tr>\n",
       "      <th>3</th>\n",
       "      <td>0021_01</td>\n",
       "      <td>True</td>\n",
       "    </tr>\n",
       "    <tr>\n",
       "      <th>4</th>\n",
       "      <td>0023_01</td>\n",
       "      <td>True</td>\n",
       "    </tr>\n",
       "  </tbody>\n",
       "</table>\n",
       "</div>"
      ],
      "text/plain": [
       "  PassengerId Transported\n",
       "  PassengerId           0\n",
       "0     0013_01        True\n",
       "1     0018_01       False\n",
       "2     0019_01        True\n",
       "3     0021_01        True\n",
       "4     0023_01        True"
      ]
     },
     "execution_count": 127,
     "metadata": {},
     "output_type": "execute_result"
    }
   ],
   "source": [
    "submission.head()"
   ]
  },
  {
   "cell_type": "code",
   "execution_count": 128,
   "metadata": {},
   "outputs": [],
   "source": [
    "submission.to_csv('submission.csv',index=False)"
   ]
  },
  {
   "cell_type": "code",
   "execution_count": null,
   "metadata": {},
   "outputs": [],
   "source": []
  }
 ],
 "metadata": {
  "kernelspec": {
   "display_name": "Python 3",
   "language": "python",
   "name": "python3"
  },
  "language_info": {
   "codemirror_mode": {
    "name": "ipython",
    "version": 3
   },
   "file_extension": ".py",
   "mimetype": "text/x-python",
   "name": "python",
   "nbconvert_exporter": "python",
   "pygments_lexer": "ipython3",
   "version": "3.8.16"
  },
  "orig_nbformat": 4
 },
 "nbformat": 4,
 "nbformat_minor": 2
}
